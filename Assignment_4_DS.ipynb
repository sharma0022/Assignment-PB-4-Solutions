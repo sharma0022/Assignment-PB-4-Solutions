{
 "cells": [
  {
   "cell_type": "markdown",
   "id": "7750d0a8",
   "metadata": {},
   "source": [
    "# Assignment 4 solution"
   ]
  },
  {
   "cell_type": "raw",
   "id": "f9190a06",
   "metadata": {},
   "source": [
    "Q.1. What exactly is []?\n",
    "\n",
    "Ans: \"[]\" is used to create an empty array. An array is a data structure that stores a collection       of elements, which can be of any type (numbers, strings, other objects, etc.). The elements       are typically accessed by an index, which is an integer value that corresponds to the             position of the element in the array.\n",
    "  for example:\n",
    "          my_array = [1, 2, 3, 4, 5]"
   ]
  },
  {
   "cell_type": "raw",
   "id": "a8f25c0b",
   "metadata": {},
   "source": [
    "Q.2. In a list of values stored in a variable called spam, how would you assign the value              'hello' as the third value? (Assume [2, 4, 6, 8, 10] are in spam.)\n",
    "     Let's pretend the spam includes the list ['a', 'b', 'c', 'd'] for the next three queries.\n",
    "\n",
    "\n",
    "Ans: spam[2]='hello' (Note: Lists follows zero based indexing"
   ]
  },
  {
   "cell_type": "code",
   "execution_count": 6,
   "id": "af0d20a1",
   "metadata": {},
   "outputs": [
    {
     "name": "stdout",
     "output_type": "stream",
     "text": [
      "[4, 8, 12, 16]\n",
      "[4, 8, 'hello', 16]\n"
     ]
    }
   ],
   "source": [
    "# for Example\n",
    "spam=[4,8,12,16]\n",
    "print(spam)\n",
    "spam[2]='hello' #List uses zero based indexing\n",
    "print(spam)"
   ]
  },
  {
   "cell_type": "markdown",
   "id": "c06e2d52",
   "metadata": {},
   "source": [
    "# Let's pretend the spam includes the list ['a','b','c',d'] for the next three queries."
   ]
  },
  {
   "cell_type": "raw",
   "id": "4cb69af5",
   "metadata": {},
   "source": [
    "Q.3. What is the value of spam[int(int('3' * 2) / 11)]?\n",
    "\n",
    "Ans: 'd' (Note that '3' * 2 is the string '33', which is passed to int() before being                  divided by 11. This eventually evaluates to 3, spam[3] is equal to d.)"
   ]
  },
  {
   "cell_type": "code",
   "execution_count": 7,
   "id": "a1c09201",
   "metadata": {},
   "outputs": [
    {
     "name": "stdout",
     "output_type": "stream",
     "text": [
      "spam[int(int('3'*2)//11)] -> d\n"
     ]
    }
   ],
   "source": [
    "spam=['a','b','c','d']\n",
    "print(\"spam[int(int('3'*2)//11)] ->\",spam[int(int('3'*2)//11)])"
   ]
  },
  {
   "cell_type": "raw",
   "id": "c26f7751",
   "metadata": {},
   "source": [
    "Q.4. What is the value of spam[-1]?\n",
    "\n",
    "Ans: We use negative indexes to access elements in a list, it starts counting from the end of the      list. So 'spam[-1]' would refer to the last element of the list 'spam'. This is equivalent        to 'spam[len(spam)-1]'\n",
    "\n",
    "     For example, if the list 'spam' contains the values [1, 2, 3, 4, 5], then 'spam[-1]' would        evaluate to '5'.\n",
    " \n",
    "     It is a common practice to use negative indexing to access the last elements of a list, it        is also useful when you don't know the exact length of the list but you know that you want        the last element.\n",
    "\n",
    "     Note: if the list is empty then trying to access the last element using this          index      will raise an IndexError."
   ]
  },
  {
   "cell_type": "code",
   "execution_count": 8,
   "id": "ef90a461",
   "metadata": {},
   "outputs": [
    {
     "name": "stdout",
     "output_type": "stream",
     "text": [
      "spam[-1] ->  5\n"
     ]
    }
   ],
   "source": [
    "spam=[1,2,3,4,5]\n",
    "print('spam[-1] -> ',spam[-1])"
   ]
  },
  {
   "cell_type": "raw",
   "id": "cacd9760",
   "metadata": {},
   "source": [
    "Q.5. What is the value of spam[:2]?\n",
    "\n",
    "Ans: spam[:2] returns all elements in the list spam from 0 to 2 excluding 2"
   ]
  },
  {
   "cell_type": "code",
   "execution_count": 9,
   "id": "b14e8b54",
   "metadata": {},
   "outputs": [
    {
     "name": "stdout",
     "output_type": "stream",
     "text": [
      "[1, 2, 3, 4, 5]\n",
      "[1, 2]\n"
     ]
    }
   ],
   "source": [
    "print(spam)\n",
    "print(spam[:2])"
   ]
  },
  {
   "cell_type": "raw",
   "id": "452c4cf8",
   "metadata": {},
   "source": [
    "Q.6. What is the value of bacon.index('cat')?\n",
    "\n",
    "Ans: The value of bacon.index('cat') is 1 (Note: index method returns the index of first              occuerence of 'cat')"
   ]
  },
  {
   "cell_type": "code",
   "execution_count": 10,
   "id": "a728dff2",
   "metadata": {},
   "outputs": [
    {
     "name": "stdout",
     "output_type": "stream",
     "text": [
      "bacon.index('cat') -> 1\n"
     ]
    }
   ],
   "source": [
    "bacon=[3.14,'cat',11,'cat',True]\n",
    "print(\"bacon.index('cat') ->\",bacon.index('cat'))"
   ]
  },
  {
   "cell_type": "raw",
   "id": "9e0f13b8",
   "metadata": {},
   "source": [
    "Q.7. How does bacon.append(99) change the look of the list value in bacon?\n",
    "\n",
    "Ans: The 'append()' method is a built-in method that allows to add an element to the end of a          list.\n",
    "\n",
    "     In the question, the expression 'bacon.append(99)' is calling the 'append()' method on the        list 'bacon' and passing the value '99' as an argument. This will add the value '99' to the      end of the list.\n",
    "\n",
    "     So if 'bacon' has the list [3.14, 'cat','11','cat',True], 'bacon.append(99)' would change        the look of the list value in 'bacon' to '[3.14, 'cat','11','cat',True,99]'\n",
    "\n",
    "     'append' method is very useful when we want to add elements to a list and don't know or           don't care about the index. It is important to note that 'append' method modifies the             original list, unlike the + operator which creates a new list.\n",
    "\n",
    "      Also,append method can accept any type of data as parameter, it can be int, float, string,       list, dict etc."
   ]
  },
  {
   "cell_type": "code",
   "execution_count": 26,
   "id": "5f616847",
   "metadata": {},
   "outputs": [
    {
     "name": "stdout",
     "output_type": "stream",
     "text": [
      "[3.14, 'cat', 11, 'cat', True, 99, 99, 99, 99, 99, 99]\n",
      "[3.14, 'cat', 11, 'cat', True, 99, 99, 99, 99, 99, 99, 99]\n"
     ]
    }
   ],
   "source": [
    "# Example\n",
    "print(bacon)\n",
    "bacon.append(99) # appends 99 to the end of the list\n",
    "print(bacon)"
   ]
  },
  {
   "cell_type": "raw",
   "id": "a9f8e2c4",
   "metadata": {},
   "source": [
    "Q.8. How does bacon.remove('cat') change the look of the list in bacon?\n",
    "\n",
    "Ans:  The remove method removes the first occurence of the element in the list"
   ]
  },
  {
   "cell_type": "code",
   "execution_count": 27,
   "id": "f90f0f35",
   "metadata": {},
   "outputs": [
    {
     "name": "stdout",
     "output_type": "stream",
     "text": [
      "[3.14, 'cat', 11, 'cat', True, 99, 99, 99, 99, 99, 99, 99]\n",
      "[3.14, 11, 'cat', True, 99, 99, 99, 99, 99, 99, 99]\n"
     ]
    }
   ],
   "source": [
    "print(bacon)\n",
    "bacon.remove('cat')\n",
    "print(bacon)"
   ]
  },
  {
   "cell_type": "raw",
   "id": "d3576dec",
   "metadata": {},
   "source": [
    "Q.9. What are the list concatenation and list replication operators?\n",
    "\n",
    "Ans: The operator for list concatenation is +, while the operator for replication is *. (This is      the same as for strings.)"
   ]
  },
  {
   "cell_type": "code",
   "execution_count": 29,
   "id": "3e914b59",
   "metadata": {},
   "outputs": [
    {
     "name": "stdout",
     "output_type": "stream",
     "text": [
      "['a', 'b', 'c', 'd', 'e', 'f', 'g', 'h']\n",
      "['f', 'g', 'h', 'f', 'g', 'h']\n"
     ]
    }
   ],
   "source": [
    "# Example\n",
    "list_1 = ['a','b','c','d','e']\n",
    "list_2 = ['f','g','h']\n",
    "print(list_1 + list_2) # List Concatenation\n",
    "print(list_2*2) # List Replication\n"
   ]
  },
  {
   "cell_type": "raw",
   "id": "bbc2a67c",
   "metadata": {},
   "source": [
    "Q.10. What is difference between the list methods append() and insert()?\n",
    "\n",
    "Ans:  While append() will add values only to the end of a list, insert() can add them anywhere in       the list."
   ]
  },
  {
   "cell_type": "code",
   "execution_count": 30,
   "id": "24419547",
   "metadata": {},
   "outputs": [
    {
     "name": "stdout",
     "output_type": "stream",
     "text": [
      "[4, 8, 12, 6, 10, 6]\n",
      "[4, 8, 'Demo', 12, 6, 10, 6]\n"
     ]
    }
   ],
   "source": [
    "#Examples\n",
    "list = [4,8,12,6,10]\n",
    "list.append(6)\n",
    "print(list)\n",
    "list.insert(2,'Demo')\n",
    "print(list)"
   ]
  },
  {
   "cell_type": "raw",
   "id": "c223fce6",
   "metadata": {},
   "source": [
    "Q.11. What are the two methods for removing items from a list?\n",
    "\n",
    "Ans:  There are two main built-in methods for removing items from a list: 'remove()' and 'pop()'.\n",
    "\n",
    "      The 'remove()' method allows you to remove the first occurrence of a specified element from       a list\n",
    "      The 'pop()' method allows to remove and return an element from a list. By default, it             removes and returns the last element of the list, but it also takes an optional argument,         the index of the element to remove."
   ]
  },
  {
   "cell_type": "raw",
   "id": "bc69bb81",
   "metadata": {},
   "source": [
    "Q.12. Describe how list values and string values are identical.\n",
    "\n",
    "Ans:  'lists' and 'strings' are similar in that they both store collections of elements and              support indexing and slicing, but they are different in that lists are mutable                    while 'strings' are immutable and 'lists' can store any type of element while 'strings'          can only store characters."
   ]
  },
  {
   "cell_type": "raw",
   "id": "321cdd1f",
   "metadata": {},
   "source": [
    "Q.13. What's the difference between tuples and lists?\n",
    "\n",
    "Ans:  'Lists' are Mutable, Indexable and Slicable. they can have values added, removed, or             changed. 'Tuples' are Immutable but Indexable and Slicable. the 'tuple' values cannot be         changed at all. Also, 'tuples' are represented using parentheses, '()', while 'list' use         the square brackets, '[]'."
   ]
  },
  {
   "cell_type": "raw",
   "id": "cd776eb4",
   "metadata": {},
   "source": [
    "Q.14. How do you type a tuple value that only contains the integer 42?\n",
    "\n",
    "Ans:  (42,) (The trailing comma is mandatory. otherwise its considered as a int by python               Interpreter)"
   ]
  },
  {
   "cell_type": "code",
   "execution_count": 45,
   "id": "f19b53f9",
   "metadata": {},
   "outputs": [
    {
     "name": "stdout",
     "output_type": "stream",
     "text": [
      "<class 'int'>\n",
      "<class 'tuple'>\n"
     ]
    }
   ],
   "source": [
    "tup1=(42)\n",
    "tup2=(42,)\n",
    "print(type(tup1))\n",
    "print(type(tup2))"
   ]
  },
  {
   "cell_type": "raw",
   "id": "debe744d",
   "metadata": {},
   "source": [
    "Q.15. How do you get a list value's tuple form? How do you get a tuple value's list form?\n",
    "\n",
    "Ans:  The tuple() and list() functions, respectively are used to convert a list to tuple and vice       versa"
   ]
  },
  {
   "cell_type": "raw",
   "id": "82298e2f",
   "metadata": {},
   "source": [
    "Q.16. Variables that \"contain\" list values are not necessarily lists themselves. Instead, what do       they contain?\n",
    "\n",
    "Ans:  They contain references to list values."
   ]
  },
  {
   "cell_type": "raw",
   "id": "d76a4f92",
   "metadata": {},
   "source": [
    "Q.17. How do you distinguish between copy.copy() and copy.deepcopy()?\n",
    "\n",
    "Ans:  'copy.copy()' creates a shallow copy of an object. A shallow copy is a copy that creates a        new object with the same value as the original object, but any objects inside of the              original object are still shared between the copy and the original."
   ]
  },
  {
   "cell_type": "code",
   "execution_count": 46,
   "id": "57517cfc",
   "metadata": {},
   "outputs": [
    {
     "name": "stdout",
     "output_type": "stream",
     "text": [
      "[[9, 2], [3, 4]]\n",
      "[[9, 2], [3, 4]]\n"
     ]
    }
   ],
   "source": [
    "#for example\n",
    "import copy\n",
    "\n",
    "original_list = [[1, 2], [3, 4]]\n",
    "shallow_copy = copy.copy(original_list)\n",
    "\n",
    "# Change an element of the original list\n",
    "original_list[0][0] = 9\n",
    "\n",
    "print(original_list) # prints [[9, 2], [3, 4]]\n",
    "print(shallow_copy) # prints [[9, 2], [3, 4]]"
   ]
  },
  {
   "cell_type": "raw",
   "id": "d8ae883a",
   "metadata": {},
   "source": [
    "     'copy.deepcopy()' creates a deep copy of an object. A deep copy creates a new object with         the same value as the original object and creates new objects for any objects inside of the       original object. The objects inside of the original object are not shared between the copy       and the original"
   ]
  },
  {
   "cell_type": "code",
   "execution_count": 47,
   "id": "ca6ad761",
   "metadata": {},
   "outputs": [
    {
     "name": "stdout",
     "output_type": "stream",
     "text": [
      "[[9, 2], [3, 4]]\n"
     ]
    }
   ],
   "source": [
    "#for example\n",
    "import copy\n",
    "\n",
    "original_list = [[1, 2], [3, 4]]\n",
    "deep_copy = copy.deepcopy(original_list)\n",
    "\n",
    "# Change an element of the original list\n",
    "original_list[0][0] = 9\n",
    "\n",
    "print(original_list) # prints [[9"
   ]
  },
  {
   "cell_type": "code",
   "execution_count": null,
   "id": "a7b9d298",
   "metadata": {},
   "outputs": [],
   "source": []
  }
 ],
 "metadata": {
  "kernelspec": {
   "display_name": "Python 3 (ipykernel)",
   "language": "python",
   "name": "python3"
  },
  "language_info": {
   "codemirror_mode": {
    "name": "ipython",
    "version": 3
   },
   "file_extension": ".py",
   "mimetype": "text/x-python",
   "name": "python",
   "nbconvert_exporter": "python",
   "pygments_lexer": "ipython3",
   "version": "3.9.12"
  }
 },
 "nbformat": 4,
 "nbformat_minor": 5
}
